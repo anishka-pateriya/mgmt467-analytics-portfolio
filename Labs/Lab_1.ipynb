{
  "cells": [
    {
      "cell_type": "markdown",
      "metadata": {
        "id": "J056YIZyjYtJ"
      },
      "source": [
        "# MGMT 467 — Prompt-Driven Lab (with Commented Examples)\n",
        "## Kaggle ➜ Google Cloud Storage ➜ BigQuery ➜ Data Quality (DQ)\n",
        "\n",
        "**How to use this notebook**\n",
        "- Each section gives you a **Build Prompt** to paste into Gemini/Vertex AI (or Gemini in Colab).\n",
        "- Below each prompt, you’ll see a **commented example** of what a good LLM answer might look like.\n",
        "- **Do not** just uncomment and run. Use the prompt to generate your own code, then compare to the example.\n",
        "- After every step, run the **Verification Prompt**, and write the **Reflection** in Markdown.\n",
        "\n",
        "> Goal today: Download the Netflix dataset (Kaggle) → Stage on GCS → Load into BigQuery → Run DQ profiling (missingness, duplicates, outliers, anomaly flags).\n"
      ],
      "id": "J056YIZyjYtJ"
    },
    {
      "cell_type": "markdown",
      "metadata": {
        "id": "Q08KTLQMjYtM"
      },
      "source": [
        "### Academic integrity & LLM usage\n",
        "- Use the prompts here to generate your own code cells.\n",
        "- Read concept notes and write the reflection answers in your own words.\n",
        "- Keep credentials out of code. Upload `kaggle.json` when asked.\n"
      ],
      "id": "Q08KTLQMjYtM"
    },
    {
      "cell_type": "markdown",
      "metadata": {
        "id": "XHr-8KcMjYtN"
      },
      "source": [
        "## Learning objectives\n",
        "1) Explain **why** we stage data in GCS and load it to BigQuery.  \n",
        "2) Build an **idempotent**, auditable pipeline.  \n",
        "3) Diagnose **missingness**, **duplicates**, and **outliers** and justify cleaning choices.  \n",
        "4) Connect DQ decisions to **business/ML impact**.\n"
      ],
      "id": "XHr-8KcMjYtN"
    },
    {
      "cell_type": "markdown",
      "metadata": {
        "id": "ZS4um94OjYtN"
      },
      "source": [
        "## 0) Environment setup — What & Why\n",
        "Authenticate Colab to Google Cloud so we can use `gcloud`, GCS, and BigQuery. Set **PROJECT_ID** and **REGION** once for consistency (cost/latency)."
      ],
      "id": "ZS4um94OjYtN"
    },
    {
      "cell_type": "markdown",
      "metadata": {
        "id": "71dwiYlqjYtO"
      },
      "source": [
        "### Build Prompt (paste to LLM)\n",
        "You are my cloud TA. Generate a single **Colab code cell** that:\n",
        "1) Authenticates to Google Cloud in Colab,  \n",
        "2) Prompts for `PROJECT_ID` via `input()` and sets `REGION=\"us-central1\"` (editable),  \n",
        "3) Exports `GOOGLE_CLOUD_PROJECT`,  \n",
        "4) Runs `gcloud config set project $GOOGLE_CLOUD_PROJECT`,  \n",
        "5) Prints both values. Add 2–3 comments explaining what/why.\n",
        "End with a comment: `# Done: Auth + Project/Region set`.\n"
      ],
      "id": "71dwiYlqjYtO"
    },
    {
      "cell_type": "code",
      "metadata": {
        "colab": {
          "base_uri": "https://localhost:8080/"
        },
        "id": "e248a60f",
        "outputId": "6ebf81f2-d383-47ac-897e-22b41b29f425"
      },
      "source": [
        "# Authenticate to Google Cloud in Colab\n",
        "from google.colab import auth\n",
        "auth.authenticate_user()\n",
        "\n",
        "import os\n",
        "\n",
        "# Prompt for Project ID and set Region\n",
        "PROJECT_ID = input(\"Enter your GCP Project ID: \").strip()\n",
        "REGION = \"us-central1\"  # Keep consistent; change if instructed\n",
        "\n",
        "# Export GOOGLE_CLOUD_PROJECT for gcloud commands\n",
        "os.environ[\"GOOGLE_CLOUD_PROJECT\"] = PROJECT_ID\n",
        "\n",
        "# Set the active project for gcloud and BigQuery CLI\n",
        "!gcloud config set project $GOOGLE_CLOUD_PROJECT\n",
        "\n",
        "# Print the set values\n",
        "print(\"Project:\", PROJECT_ID, \"| Region:\", REGION)\n",
        "\n",
        "# Done: Auth + Project/Region set"
      ],
      "id": "e248a60f",
      "execution_count": 1,
      "outputs": [
        {
          "output_type": "stream",
          "name": "stdout",
          "text": [
            "Enter your GCP Project ID: mgmt-467-25259\n",
            "Updated property [core/project].\n",
            "Project: mgmt-467-25259 | Region: us-central1\n"
          ]
        }
      ]
    },
    {
      "cell_type": "markdown",
      "metadata": {
        "id": "baB8_drljYtP"
      },
      "source": [
        "### Verification Prompt\n",
        "Generate a short cell that prints the active project using `gcloud config get-value project` and echoes the `REGION` you set.\n"
      ],
      "id": "baB8_drljYtP"
    },
    {
      "cell_type": "markdown",
      "metadata": {
        "id": "AjZdJhcSjYtQ"
      },
      "source": [
        "**Reflection:** Why do we set `PROJECT_ID` and `REGION` at the top? What can go wrong if we don’t?\n",
        "\n"
      ],
      "id": "AjZdJhcSjYtQ"
    },
    {
      "cell_type": "markdown",
      "source": [
        "Setting the PROJECT_ID and REGION at the beginning of the notebook ensures consistency and avoids potential issues. Commands could fali and resources could be created in the wrong project/region if we don't."
      ],
      "metadata": {
        "id": "9JzwkCLlg7QI"
      },
      "id": "9JzwkCLlg7QI"
    },
    {
      "cell_type": "markdown",
      "metadata": {
        "id": "Lwrq1gR6jYtQ"
      },
      "source": [
        "## 1) Kaggle API — What & Why\n",
        "Use Kaggle CLI for reproducible downloads. Store `kaggle.json` at `~/.kaggle/kaggle.json` with `0600` permissions to protect secrets."
      ],
      "id": "Lwrq1gR6jYtQ"
    },
    {
      "cell_type": "markdown",
      "metadata": {
        "id": "4IXIcjJrjYtQ"
      },
      "source": [
        "### Build Prompt\n",
        "Generate a **single Colab code cell** that:\n",
        "- Prompts me to upload `kaggle.json`,\n",
        "- Saves to `~/.kaggle/kaggle.json` with `0600` permissions,\n",
        "- Prints `kaggle --version`.\n",
        "Add comments about security and reproducibility.\n"
      ],
      "id": "4IXIcjJrjYtQ"
    },
    {
      "cell_type": "code",
      "metadata": {
        "colab": {
          "base_uri": "https://localhost:8080/",
          "height": 108
        },
        "id": "4127b8ae",
        "outputId": "38949db4-4bec-4b42-f3cb-26e4c2f2914c"
      },
      "source": [
        "# Prompt user to upload their kaggle.json file\n",
        "# This file contains your Kaggle API credentials. Keep it secure.\n",
        "from google.colab import files\n",
        "print(\"Upload your kaggle.json (Kaggle > Account > Create New API Token)\")\n",
        "uploaded = files.upload()\n",
        "\n",
        "# Ensure the .kaggle directory exists in the home directory\n",
        "# This is where the Kaggle CLI expects to find the credentials file.\n",
        "import os\n",
        "os.makedirs('/root/.kaggle', exist_ok=True)\n",
        "\n",
        "# Save the uploaded file to the correct location\n",
        "# Use the first file uploaded (assuming only one: kaggle.json)\n",
        "with open('/root/.kaggle/kaggle.json', 'wb') as f:\n",
        "    f.write(uploaded[list(uploaded.keys())[0]])\n",
        "\n",
        "# Set file permissions to 0600 (owner read/write only)\n",
        "# This is crucial for security to prevent other users/processes from accessing your token.\n",
        "os.chmod('/root/.kaggle/kaggle.json', 0o600)\n",
        "\n",
        "# Verify the Kaggle CLI is installed and configured\n",
        "# This also confirms the credential file is in the right place and has correct permissions.\n",
        "!kaggle --version"
      ],
      "id": "4127b8ae",
      "execution_count": 2,
      "outputs": [
        {
          "output_type": "stream",
          "name": "stdout",
          "text": [
            "Upload your kaggle.json (Kaggle > Account > Create New API Token)\n"
          ]
        },
        {
          "output_type": "display_data",
          "data": {
            "text/plain": [
              "<IPython.core.display.HTML object>"
            ],
            "text/html": [
              "\n",
              "     <input type=\"file\" id=\"files-3288852b-add6-40a9-a912-a52687d8f5d6\" name=\"files[]\" multiple disabled\n",
              "        style=\"border:none\" />\n",
              "     <output id=\"result-3288852b-add6-40a9-a912-a52687d8f5d6\">\n",
              "      Upload widget is only available when the cell has been executed in the\n",
              "      current browser session. Please rerun this cell to enable.\n",
              "      </output>\n",
              "      <script>// Copyright 2017 Google LLC\n",
              "//\n",
              "// Licensed under the Apache License, Version 2.0 (the \"License\");\n",
              "// you may not use this file except in compliance with the License.\n",
              "// You may obtain a copy of the License at\n",
              "//\n",
              "//      http://www.apache.org/licenses/LICENSE-2.0\n",
              "//\n",
              "// Unless required by applicable law or agreed to in writing, software\n",
              "// distributed under the License is distributed on an \"AS IS\" BASIS,\n",
              "// WITHOUT WARRANTIES OR CONDITIONS OF ANY KIND, either express or implied.\n",
              "// See the License for the specific language governing permissions and\n",
              "// limitations under the License.\n",
              "\n",
              "/**\n",
              " * @fileoverview Helpers for google.colab Python module.\n",
              " */\n",
              "(function(scope) {\n",
              "function span(text, styleAttributes = {}) {\n",
              "  const element = document.createElement('span');\n",
              "  element.textContent = text;\n",
              "  for (const key of Object.keys(styleAttributes)) {\n",
              "    element.style[key] = styleAttributes[key];\n",
              "  }\n",
              "  return element;\n",
              "}\n",
              "\n",
              "// Max number of bytes which will be uploaded at a time.\n",
              "const MAX_PAYLOAD_SIZE = 100 * 1024;\n",
              "\n",
              "function _uploadFiles(inputId, outputId) {\n",
              "  const steps = uploadFilesStep(inputId, outputId);\n",
              "  const outputElement = document.getElementById(outputId);\n",
              "  // Cache steps on the outputElement to make it available for the next call\n",
              "  // to uploadFilesContinue from Python.\n",
              "  outputElement.steps = steps;\n",
              "\n",
              "  return _uploadFilesContinue(outputId);\n",
              "}\n",
              "\n",
              "// This is roughly an async generator (not supported in the browser yet),\n",
              "// where there are multiple asynchronous steps and the Python side is going\n",
              "// to poll for completion of each step.\n",
              "// This uses a Promise to block the python side on completion of each step,\n",
              "// then passes the result of the previous step as the input to the next step.\n",
              "function _uploadFilesContinue(outputId) {\n",
              "  const outputElement = document.getElementById(outputId);\n",
              "  const steps = outputElement.steps;\n",
              "\n",
              "  const next = steps.next(outputElement.lastPromiseValue);\n",
              "  return Promise.resolve(next.value.promise).then((value) => {\n",
              "    // Cache the last promise value to make it available to the next\n",
              "    // step of the generator.\n",
              "    outputElement.lastPromiseValue = value;\n",
              "    return next.value.response;\n",
              "  });\n",
              "}\n",
              "\n",
              "/**\n",
              " * Generator function which is called between each async step of the upload\n",
              " * process.\n",
              " * @param {string} inputId Element ID of the input file picker element.\n",
              " * @param {string} outputId Element ID of the output display.\n",
              " * @return {!Iterable<!Object>} Iterable of next steps.\n",
              " */\n",
              "function* uploadFilesStep(inputId, outputId) {\n",
              "  const inputElement = document.getElementById(inputId);\n",
              "  inputElement.disabled = false;\n",
              "\n",
              "  const outputElement = document.getElementById(outputId);\n",
              "  outputElement.innerHTML = '';\n",
              "\n",
              "  const pickedPromise = new Promise((resolve) => {\n",
              "    inputElement.addEventListener('change', (e) => {\n",
              "      resolve(e.target.files);\n",
              "    });\n",
              "  });\n",
              "\n",
              "  const cancel = document.createElement('button');\n",
              "  inputElement.parentElement.appendChild(cancel);\n",
              "  cancel.textContent = 'Cancel upload';\n",
              "  const cancelPromise = new Promise((resolve) => {\n",
              "    cancel.onclick = () => {\n",
              "      resolve(null);\n",
              "    };\n",
              "  });\n",
              "\n",
              "  // Wait for the user to pick the files.\n",
              "  const files = yield {\n",
              "    promise: Promise.race([pickedPromise, cancelPromise]),\n",
              "    response: {\n",
              "      action: 'starting',\n",
              "    }\n",
              "  };\n",
              "\n",
              "  cancel.remove();\n",
              "\n",
              "  // Disable the input element since further picks are not allowed.\n",
              "  inputElement.disabled = true;\n",
              "\n",
              "  if (!files) {\n",
              "    return {\n",
              "      response: {\n",
              "        action: 'complete',\n",
              "      }\n",
              "    };\n",
              "  }\n",
              "\n",
              "  for (const file of files) {\n",
              "    const li = document.createElement('li');\n",
              "    li.append(span(file.name, {fontWeight: 'bold'}));\n",
              "    li.append(span(\n",
              "        `(${file.type || 'n/a'}) - ${file.size} bytes, ` +\n",
              "        `last modified: ${\n",
              "            file.lastModifiedDate ? file.lastModifiedDate.toLocaleDateString() :\n",
              "                                    'n/a'} - `));\n",
              "    const percent = span('0% done');\n",
              "    li.appendChild(percent);\n",
              "\n",
              "    outputElement.appendChild(li);\n",
              "\n",
              "    const fileDataPromise = new Promise((resolve) => {\n",
              "      const reader = new FileReader();\n",
              "      reader.onload = (e) => {\n",
              "        resolve(e.target.result);\n",
              "      };\n",
              "      reader.readAsArrayBuffer(file);\n",
              "    });\n",
              "    // Wait for the data to be ready.\n",
              "    let fileData = yield {\n",
              "      promise: fileDataPromise,\n",
              "      response: {\n",
              "        action: 'continue',\n",
              "      }\n",
              "    };\n",
              "\n",
              "    // Use a chunked sending to avoid message size limits. See b/62115660.\n",
              "    let position = 0;\n",
              "    do {\n",
              "      const length = Math.min(fileData.byteLength - position, MAX_PAYLOAD_SIZE);\n",
              "      const chunk = new Uint8Array(fileData, position, length);\n",
              "      position += length;\n",
              "\n",
              "      const base64 = btoa(String.fromCharCode.apply(null, chunk));\n",
              "      yield {\n",
              "        response: {\n",
              "          action: 'append',\n",
              "          file: file.name,\n",
              "          data: base64,\n",
              "        },\n",
              "      };\n",
              "\n",
              "      let percentDone = fileData.byteLength === 0 ?\n",
              "          100 :\n",
              "          Math.round((position / fileData.byteLength) * 100);\n",
              "      percent.textContent = `${percentDone}% done`;\n",
              "\n",
              "    } while (position < fileData.byteLength);\n",
              "  }\n",
              "\n",
              "  // All done.\n",
              "  yield {\n",
              "    response: {\n",
              "      action: 'complete',\n",
              "    }\n",
              "  };\n",
              "}\n",
              "\n",
              "scope.google = scope.google || {};\n",
              "scope.google.colab = scope.google.colab || {};\n",
              "scope.google.colab._files = {\n",
              "  _uploadFiles,\n",
              "  _uploadFilesContinue,\n",
              "};\n",
              "})(self);\n",
              "</script> "
            ]
          },
          "metadata": {}
        },
        {
          "output_type": "stream",
          "name": "stdout",
          "text": [
            "Saving kaggle.json to kaggle.json\n",
            "Kaggle API 1.7.4.5\n"
          ]
        }
      ]
    },
    {
      "cell_type": "markdown",
      "metadata": {
        "id": "DzqZ--NkjYtQ"
      },
      "source": [
        "### Verification Prompt\n",
        "Generate a one-liner that runs `kaggle --help | head -n 20` to show the CLI is ready.\n"
      ],
      "id": "DzqZ--NkjYtQ"
    },
    {
      "cell_type": "markdown",
      "metadata": {
        "id": "Ij0f_RV0jYtR"
      },
      "source": [
        "**Reflection:** Why require strict `0600` permissions on API tokens? What risks are we avoiding?\n"
      ],
      "id": "Ij0f_RV0jYtR"
    },
    {
      "cell_type": "markdown",
      "source": [
        "This is crucial for security because API tokens are essentially passwords,\n",
        "this ensures that only the owner of the file can read nad write to it.\n"
      ],
      "metadata": {
        "id": "1nUokPOJgvzZ"
      },
      "id": "1nUokPOJgvzZ"
    },
    {
      "cell_type": "markdown",
      "source": [],
      "metadata": {
        "id": "VZA7Di0hgp34"
      },
      "id": "VZA7Di0hgp34"
    },
    {
      "cell_type": "markdown",
      "metadata": {
        "id": "UtHAaEQMjYtR"
      },
      "source": [
        "## 2) Download & unzip dataset — What & Why\n",
        "Keep raw files under `/content/data/raw` for predictable paths and auditing.\n",
        "**Dataset:** `sayeeduddin/netflix-2025user-behavior-dataset-210k-records`"
      ],
      "id": "UtHAaEQMjYtR"
    },
    {
      "cell_type": "code",
      "metadata": {
        "colab": {
          "base_uri": "https://localhost:8080/"
        },
        "id": "e22b3509",
        "outputId": "a258ef62-e32d-48d2-8236-60e6487d2c58"
      },
      "source": [
        "# Create directory for raw data\n",
        "# This ensures a consistent location for downloaded files.\n",
        "!mkdir -p /content/data/raw\n",
        "\n",
        "# Download the dataset from Kaggle\n",
        "# The -p flag specifies the download path.\n",
        "!kaggle datasets download -d sayeeduddin/netflix-2025user-behavior-dataset-210k-records -p /content/data\n",
        "\n",
        "# Unzip the downloaded file into the raw data directory\n",
        "# The -o flag allows overwriting if files already exist.\n",
        "!unzip -o /content/data/*.zip -d /content/data/raw\n",
        "\n",
        "# List all CSV files in the raw data directory with their sizes\n",
        "# This provides a clear inventory of the downloaded and unzipped files.\n",
        "!ls -lh /content/data/raw/*.csv"
      ],
      "id": "e22b3509",
      "execution_count": 3,
      "outputs": [
        {
          "output_type": "stream",
          "name": "stdout",
          "text": [
            "Dataset URL: https://www.kaggle.com/datasets/sayeeduddin/netflix-2025user-behavior-dataset-210k-records\n",
            "License(s): CC0-1.0\n",
            "Downloading netflix-2025user-behavior-dataset-210k-records.zip to /content/data\n",
            "  0% 0.00/4.02M [00:00<?, ?B/s]\n",
            "100% 4.02M/4.02M [00:00<00:00, 778MB/s]\n",
            "Archive:  /content/data/netflix-2025user-behavior-dataset-210k-records.zip\n",
            "  inflating: /content/data/raw/README.md  \n",
            "  inflating: /content/data/raw/movies.csv  \n",
            "  inflating: /content/data/raw/recommendation_logs.csv  \n",
            "  inflating: /content/data/raw/reviews.csv  \n",
            "  inflating: /content/data/raw/search_logs.csv  \n",
            "  inflating: /content/data/raw/users.csv  \n",
            "  inflating: /content/data/raw/watch_history.csv  \n",
            "-rw-r--r-- 1 root root 114K Aug  2 19:36 /content/data/raw/movies.csv\n",
            "-rw-r--r-- 1 root root 4.5M Aug  2 19:36 /content/data/raw/recommendation_logs.csv\n",
            "-rw-r--r-- 1 root root 1.8M Aug  2 19:36 /content/data/raw/reviews.csv\n",
            "-rw-r--r-- 1 root root 2.2M Aug  2 19:36 /content/data/raw/search_logs.csv\n",
            "-rw-r--r-- 1 root root 1.6M Aug  2 19:36 /content/data/raw/users.csv\n",
            "-rw-r--r-- 1 root root 8.9M Aug  2 19:36 /content/data/raw/watch_history.csv\n"
          ]
        }
      ]
    },
    {
      "cell_type": "markdown",
      "metadata": {
        "id": "GuCdWGYtjYtR"
      },
      "source": [
        "### Build Prompt\n",
        "Generate a **Colab code cell** that:\n",
        "- Creates `/content/data/raw`,\n",
        "- Downloads the dataset to `/content/data` with Kaggle CLI,\n",
        "- Unzips into `/content/data/raw` (overwrite OK),\n",
        "- Lists all CSVs with sizes in a neat table.\n",
        "Include comments describing each step.\n"
      ],
      "id": "GuCdWGYtjYtR"
    },
    {
      "cell_type": "code",
      "metadata": {
        "id": "NEhfthEBjYtR",
        "colab": {
          "base_uri": "https://localhost:8080/"
        },
        "outputId": "43d2bf24-53d5-4807-a8d7-24f8ff9b6c02"
      },
      "execution_count": 4,
      "outputs": [
        {
          "output_type": "stream",
          "name": "stdout",
          "text": [
            "Dataset URL: https://www.kaggle.com/datasets/sayeeduddin/netflix-2025user-behavior-dataset-210k-records\n",
            "License(s): CC0-1.0\n",
            "netflix-2025user-behavior-dataset-210k-records.zip: Skipping, found more recently modified local copy (use --force to force download)\n",
            "Archive:  /content/data/netflix-2025user-behavior-dataset-210k-records.zip\n",
            "  inflating: /content/data/raw/README.md  \n",
            "  inflating: /content/data/raw/movies.csv  \n",
            "  inflating: /content/data/raw/recommendation_logs.csv  \n",
            "  inflating: /content/data/raw/reviews.csv  \n",
            "  inflating: /content/data/raw/search_logs.csv  \n",
            "  inflating: /content/data/raw/users.csv  \n",
            "  inflating: /content/data/raw/watch_history.csv  \n",
            "-rw-r--r-- 1 root root 114K Aug  2 19:36 /content/data/raw/movies.csv\n",
            "-rw-r--r-- 1 root root 4.5M Aug  2 19:36 /content/data/raw/recommendation_logs.csv\n",
            "-rw-r--r-- 1 root root 1.8M Aug  2 19:36 /content/data/raw/reviews.csv\n",
            "-rw-r--r-- 1 root root 2.2M Aug  2 19:36 /content/data/raw/search_logs.csv\n",
            "-rw-r--r-- 1 root root 1.6M Aug  2 19:36 /content/data/raw/users.csv\n",
            "-rw-r--r-- 1 root root 8.9M Aug  2 19:36 /content/data/raw/watch_history.csv\n"
          ]
        }
      ],
      "source": [
        "# Create directory for raw data\n",
        "# This ensures a consistent location for downloaded files.\n",
        "!mkdir -p /content/data/raw\n",
        "\n",
        "# Download the dataset from Kaggle\n",
        "# The -p flag specifies the download path.\n",
        "!kaggle datasets download -d sayeeduddin/netflix-2025user-behavior-dataset-210k-records -p /content/data\n",
        "\n",
        "# Unzip the downloaded file into the raw data directory\n",
        "# The -o flag allows overwriting if files already exist.\n",
        "!unzip -o /content/data/*.zip -d /content/data/raw\n",
        "\n",
        "# List all CSV files in the raw data directory with their sizes\n",
        "# This provides a clear inventory of the downloaded and unzipped files.\n",
        "!ls -lh /content/data/raw/*.csv"
      ],
      "id": "NEhfthEBjYtR"
    },
    {
      "cell_type": "markdown",
      "metadata": {
        "id": "zilBjhOXjYtR"
      },
      "source": [
        "### Verification Prompt\n",
        "Generate a snippet that asserts there are exactly **six** CSV files and prints their names.\n"
      ],
      "id": "zilBjhOXjYtR"
    },
    {
      "cell_type": "code",
      "source": [
        "# Verify there are exactly six CSV files and print their names\n",
        "import os\n",
        "import glob\n",
        "\n",
        "csv_files = glob.glob('/content/data/raw/*.csv')\n",
        "\n",
        "# Assert that there are exactly 6 CSV files\n",
        "assert len(csv_files) == 6, f\"Expected 6 CSV files, but found {len(csv_files)}\"\n",
        "\n",
        "# Print the names of the CSV files\n",
        "print(\"Found the following CSV files:\")\n",
        "for csv_file in csv_files:\n",
        "    print(os.path.basename(csv_file))"
      ],
      "metadata": {
        "colab": {
          "base_uri": "https://localhost:8080/"
        },
        "id": "KU2_XBMUhI2j",
        "outputId": "3be76c60-76d3-4693-ef9f-4cc6f6a8d176"
      },
      "id": "KU2_XBMUhI2j",
      "execution_count": 5,
      "outputs": [
        {
          "output_type": "stream",
          "name": "stdout",
          "text": [
            "Found the following CSV files:\n",
            "movies.csv\n",
            "watch_history.csv\n",
            "search_logs.csv\n",
            "users.csv\n",
            "recommendation_logs.csv\n",
            "reviews.csv\n"
          ]
        }
      ]
    },
    {
      "cell_type": "markdown",
      "metadata": {
        "id": "xcyRSXrrjYtR"
      },
      "source": [
        "**Reflection:** Why is keeping a clean file inventory (names, sizes) useful downstream?."
      ],
      "id": "xcyRSXrrjYtR"
    },
    {
      "cell_type": "markdown",
      "source": [
        "Clean file inventories help with reproducibility, auditing and provenance, troubleshooting, and resource management. It can also help with scripting and automation"
      ],
      "metadata": {
        "id": "EN4yLhjQhFYv"
      },
      "id": "EN4yLhjQhFYv"
    },
    {
      "cell_type": "markdown",
      "metadata": {
        "id": "fDjtDdRyjYtR"
      },
      "source": [
        "## 3) Create GCS bucket & upload — What & Why\n",
        "Stage in GCS → consistent, versionable source for BigQuery loads. Bucket names must be **globally unique**."
      ],
      "id": "fDjtDdRyjYtR"
    },
    {
      "cell_type": "markdown",
      "metadata": {
        "id": "0gzjoj6TjYtR"
      },
      "source": [
        "### Build Prompt\n",
        "Generate a **Colab code cell** that:\n",
        "- Creates a unique bucket in `${REGION}` (random suffix),\n",
        "- Saves name to `BUCKET_NAME` env var,\n",
        "- Uploads all CSVs to `gs://$BUCKET_NAME/netflix/`,\n",
        "- Prints the bucket name and explains staging benefits.\n"
      ],
      "id": "0gzjoj6TjYtR"
    },
    {
      "cell_type": "code",
      "metadata": {
        "colab": {
          "base_uri": "https://localhost:8080/"
        },
        "id": "346431c4",
        "outputId": "5a5d9617-a5c0-4bf6-f141-5f75d7ca3d75"
      },
      "source": [
        "# --- Create a unique GCS bucket and upload Netflix dataset for BigQuery Staging ---\n",
        "import os, uuid, re\n",
        "\n",
        "# 1) Define region and bucket name\n",
        "region = \"US\"\n",
        "bucket_name = f\"mgmt467-netflix-{uuid.uuid4().hex[:8]}\"\n",
        "\n",
        "# 2) Expose values to both Python and shell\n",
        "os.environ[\"BUCKET_NAME\"] = bucket_name\n",
        "os.environ[\"REGION\"] = region\n",
        "\n",
        "# 3) Create bucket (NOTE: use --location=$REGION or --location={region}; both are fine now)\n",
        "!gcloud storage buckets create gs://$BUCKET_NAME --location=$REGION\n",
        "\n",
        "# 4) UPLOAD CSVs and verify\n",
        "!gcloud storage cp /content/data/raw/* gs://$BUCKET_NAME/netflix/\n",
        "!gcloud storage ls gs://$BUCKET_NAME/netflix/"
      ],
      "id": "346431c4",
      "execution_count": 6,
      "outputs": [
        {
          "output_type": "stream",
          "name": "stdout",
          "text": [
            "Creating gs://mgmt467-netflix-94a76365/...\n",
            "Copying file:///content/data/raw/movies.csv to gs://mgmt467-netflix-94a76365/netflix/movies.csv\n",
            "Copying file:///content/data/raw/README.md to gs://mgmt467-netflix-94a76365/netflix/README.md\n",
            "Copying file:///content/data/raw/recommendation_logs.csv to gs://mgmt467-netflix-94a76365/netflix/recommendation_logs.csv\n",
            "Copying file:///content/data/raw/reviews.csv to gs://mgmt467-netflix-94a76365/netflix/reviews.csv\n",
            "Copying file:///content/data/raw/search_logs.csv to gs://mgmt467-netflix-94a76365/netflix/search_logs.csv\n",
            "Copying file:///content/data/raw/users.csv to gs://mgmt467-netflix-94a76365/netflix/users.csv\n",
            "Copying file:///content/data/raw/watch_history.csv to gs://mgmt467-netflix-94a76365/netflix/watch_history.csv\n",
            "\n",
            "Average throughput: 9.0MiB/s\n",
            "gs://mgmt467-netflix-94a76365/netflix/README.md\n",
            "gs://mgmt467-netflix-94a76365/netflix/movies.csv\n",
            "gs://mgmt467-netflix-94a76365/netflix/recommendation_logs.csv\n",
            "gs://mgmt467-netflix-94a76365/netflix/reviews.csv\n",
            "gs://mgmt467-netflix-94a76365/netflix/search_logs.csv\n",
            "gs://mgmt467-netflix-94a76365/netflix/users.csv\n",
            "gs://mgmt467-netflix-94a76365/netflix/watch_history.csv\n"
          ]
        }
      ]
    },
    {
      "cell_type": "markdown",
      "metadata": {
        "id": "1D4TyBQrjYtS"
      },
      "source": [
        "### Verification Prompt\n",
        "Generate a snippet that lists the `netflix/` prefix and shows object sizes.\n"
      ],
      "id": "1D4TyBQrjYtS"
    },
    {
      "cell_type": "code",
      "metadata": {
        "colab": {
          "base_uri": "https://localhost:8080/"
        },
        "id": "8cf2d4cd",
        "outputId": "0c755975-9b4f-4aea-cc20-e517936774d0"
      },
      "source": [
        "# List objects in the GCS bucket under the 'netflix/' prefix with sizes\n",
        "# The -l flag provides a long listing, including object size.\n",
        "!gcloud storage ls -l gs://$BUCKET_NAME/netflix/"
      ],
      "id": "8cf2d4cd",
      "execution_count": 7,
      "outputs": [
        {
          "output_type": "stream",
          "name": "stdout",
          "text": [
            "      8002  2025-10-26T20:57:46Z  gs://mgmt467-netflix-94a76365/netflix/README.md\n",
            "    115942  2025-10-26T20:57:46Z  gs://mgmt467-netflix-94a76365/netflix/movies.csv\n",
            "   4695557  2025-10-26T20:57:47Z  gs://mgmt467-netflix-94a76365/netflix/recommendation_logs.csv\n",
            "   1861942  2025-10-26T20:57:48Z  gs://mgmt467-netflix-94a76365/netflix/reviews.csv\n",
            "   2250902  2025-10-26T20:57:47Z  gs://mgmt467-netflix-94a76365/netflix/search_logs.csv\n",
            "   1606820  2025-10-26T20:57:47Z  gs://mgmt467-netflix-94a76365/netflix/users.csv\n",
            "   9269425  2025-10-26T20:57:48Z  gs://mgmt467-netflix-94a76365/netflix/watch_history.csv\n",
            "TOTAL: 7 objects, 19808590 bytes (18.89MiB)\n"
          ]
        }
      ]
    },
    {
      "cell_type": "markdown",
      "metadata": {
        "id": "u146r1S-jYtS"
      },
      "source": [
        "**Reflection:** Name two benefits of staging in GCS vs loading directly from local Colab.\n"
      ],
      "id": "u146r1S-jYtS"
    },
    {
      "cell_type": "markdown",
      "source": [
        "One is scalability and accessibility, and another benefit is reproducibility and collaboration, staging in GCS makes both easier."
      ],
      "metadata": {
        "id": "YVnoIUSChZim"
      },
      "id": "YVnoIUSChZim"
    },
    {
      "cell_type": "markdown",
      "metadata": {
        "id": "hsihmSCBjYtS"
      },
      "source": [
        "## 4) BigQuery dataset & loads — What & Why\n",
        "Create dataset `netflix` and load six CSVs with **autodetect** for speed (we’ll enforce schemas later)."
      ],
      "id": "hsihmSCBjYtS"
    },
    {
      "cell_type": "markdown",
      "metadata": {
        "id": "DlahjvwzjYtS"
      },
      "source": [
        "### Build Prompt (two cells)\n",
        "**Cell A:** Create (idempotently) dataset `netflix` in US multi-region; if it exists, print a friendly message.  \n",
        "**Cell B:** Load tables from `gs://$BUCKET_NAME/netflix/`:\n",
        "`users, movies, watch_history, recommendation_logs, search_logs, reviews`\n",
        "with `--skip_leading_rows=1 --autodetect --source_format=CSV`.\n",
        "Finish with row-count queries for each table.\n"
      ],
      "id": "DlahjvwzjYtS"
    },
    {
      "cell_type": "code",
      "metadata": {
        "colab": {
          "base_uri": "https://localhost:8080/"
        },
        "id": "e27a8054",
        "outputId": "47ce1bbe-52b8-448e-df77-9614e30aa836"
      },
      "source": [
        "# Verify row counts for all tables\n",
        "%%bigquery\n",
        "SELECT 'users' AS table_name, COUNT(*) AS n FROM `mgmt-467-4677.netflix.users`\n",
        "UNION ALL\n",
        "SELECT 'movies' AS table_name, COUNT(*) AS n FROM `mgmt-467-4677.netflix.movies`\n",
        "UNION ALL\n",
        "SELECT 'watch_history' AS table_name, COUNT(*) AS n FROM `mgmt-467-4677.netflix.watch_history`\n",
        "UNION ALL\n",
        "SELECT 'recommendation_logs' AS table_name, COUNT(*) AS n FROM `mgmt-467-4677.netflix.recommendation_logs`\n",
        "UNION ALL\n",
        "SELECT 'search_logs' AS table_name, COUNT(*) AS n FROM `mgmt-467-4677.netflix.search_logs`\n",
        "UNION ALL\n",
        "SELECT 'reviews' AS table_name, COUNT(*) AS n FROM `mgmt-467-4677.netflix.reviews`"
      ],
      "id": "e27a8054",
      "execution_count": 8,
      "outputs": [
        {
          "output_type": "stream",
          "name": "stdout",
          "text": [
            "Executing query with job ID: 1e768df0-6803-4f0f-bea5-b35ca7a221bc\n",
            "\rQuery executing: 0.50s"
          ]
        },
        {
          "output_type": "stream",
          "name": "stderr",
          "text": [
            "\n",
            "ERROR:\n",
            " 403 Access Denied: Table mgmt-467-4677:netflix.movies: User does not have permission to query table mgmt-467-4677:netflix.movies, or perhaps it does not exist.; reason: accessDenied, message: Access Denied: Table mgmt-467-4677:netflix.movies: User does not have permission to query table mgmt-467-4677:netflix.movies, or perhaps it does not exist.\n",
            "\n",
            "Location: US\n",
            "Job ID: 1e768df0-6803-4f0f-bea5-b35ca7a221bc\n",
            "\n"
          ]
        }
      ]
    },
    {
      "cell_type": "markdown",
      "metadata": {
        "id": "zD9iW7RejYtS"
      },
      "source": [
        "### Verification Prompt\n",
        "Generate a single query that returns `table_name, row_count` for all six tables in `${GOOGLE_CLOUD_PROJECT}.netflix`.\n"
      ],
      "id": "zD9iW7RejYtS"
    },
    {
      "cell_type": "code",
      "metadata": {
        "colab": {
          "base_uri": "https://localhost:8080/"
        },
        "id": "8b25ce98",
        "outputId": "4d31be9c-1382-4894-84e6-4d9b8937b4a0"
      },
      "source": [
        "# Generate a single query that returns table_name, row_count for all six tables in ${GOOGLE_CLOUD_PROJECT}.netflix.\n",
        "%%bigquery\n",
        "SELECT 'users' AS table_name, COUNT(*) AS n FROM `mgmt-467-4677.netflix.users`\n",
        "UNION ALL\n",
        "SELECT 'movies' AS table_name, COUNT(*) AS n FROM `mgmt-467-4677.netflix.movies`\n",
        "UNION ALL\n",
        "SELECT 'watch_history' AS table_name, COUNT(*) AS n FROM `mgmt-467-4677.netflix.watch_history`\n",
        "UNION ALL\n",
        "SELECT 'recommendation_logs' AS table_name, COUNT(*) AS n FROM `mgmt-467-4677.netflix.recommendation_logs`\n",
        "UNION ALL\n",
        "SELECT 'search_logs' AS table_name, COUNT(*) AS n FROM `mgmt-467-4677.netflix.search_logs`\n",
        "UNION ALL\n",
        "SELECT 'reviews' AS table_name, COUNT(*) AS n FROM `mgmt-467-4677.netflix.reviews`"
      ],
      "id": "8b25ce98",
      "execution_count": 9,
      "outputs": [
        {
          "output_type": "stream",
          "name": "stdout",
          "text": [
            "Executing query with job ID: d8522df0-3f82-4945-8f0b-173c3d8b1262\n",
            "\rQuery executing: 0.42s"
          ]
        },
        {
          "output_type": "stream",
          "name": "stderr",
          "text": [
            "\n",
            "ERROR:\n",
            " 403 Access Denied: Table mgmt-467-4677:netflix.movies: User does not have permission to query table mgmt-467-4677:netflix.movies, or perhaps it does not exist.; reason: accessDenied, message: Access Denied: Table mgmt-467-4677:netflix.movies: User does not have permission to query table mgmt-467-4677:netflix.movies, or perhaps it does not exist.\n",
            "\n",
            "Location: US\n",
            "Job ID: d8522df0-3f82-4945-8f0b-173c3d8b1262\n",
            "\n"
          ]
        }
      ]
    },
    {
      "cell_type": "markdown",
      "metadata": {
        "id": "bOB1QwTYjYtT"
      },
      "source": [
        "**Reflection:** When is `autodetect` acceptable? When should you enforce explicit schemas and why?"
      ],
      "id": "bOB1QwTYjYtT"
    },
    {
      "cell_type": "markdown",
      "source": [
        "Autodetect is acceptable during exploratory data analysis, rapid prototyping, and well-structured, consistent data. We should enforce explicit schemas during production ETL/ELT pipeliness nd when preserving data quality and integrity."
      ],
      "metadata": {
        "id": "24I3qbQvhiPX"
      },
      "id": "24I3qbQvhiPX"
    },
    {
      "cell_type": "markdown",
      "metadata": {
        "id": "FHaEXN6ljYtT"
      },
      "source": [
        "## 5) Data Quality (DQ) — Concepts we care about\n",
        "- **Missingness** (MCAR/MAR/MNAR). Impute vs drop. Add `is_missing_*` indicators.\n",
        "- **Duplicates** (exact vs near). Double-counted engagement corrupts labels & KPIs.\n",
        "- **Outliers** (IQR). Winsorize/cap vs robust models. Always **flag** and explain.\n",
        "- **Reproducibility**. Prefer `CREATE OR REPLACE` and deterministic keys.\n"
      ],
      "id": "FHaEXN6ljYtT"
    },
    {
      "cell_type": "markdown",
      "metadata": {
        "id": "BbWedi0TjYtT"
      },
      "source": [
        "### 5.1 Missingness (users) — What & Why\n",
        "Measure % missing and check if missingness depends on another variable (MAR) → potential bias & instability."
      ],
      "id": "BbWedi0TjYtT"
    },
    {
      "cell_type": "markdown",
      "metadata": {
        "id": "4cm54XDOjYtT"
      },
      "source": [
        "### Build Prompt\n",
        "Generate **two BigQuery SQL cells**:\n",
        "1) Total rows and % missing in `region`, `plan_tier`, `age_band` from `users`.\n",
        "2) `% plan_tier missing by region` ordered descending. Add comments on MAR.\n"
      ],
      "id": "4cm54XDOjYtT"
    },
    {
      "cell_type": "code",
      "metadata": {
        "colab": {
          "base_uri": "https://localhost:8080/"
        },
        "id": "44153455",
        "outputId": "e6d0610a-a657-412e-d4d4-338bc90c648a"
      },
      "source": [
        "# Verification query: Print the three missingness percentages\n",
        "# This query retrieves and displays the calculated missingness percentages\n",
        "# for country, subscription_plan, and age from the previous query's results.\n",
        "%%bigquery\n",
        "SELECT pct_missing_country, pct_missing_subscription_plan, pct_missing_age\n",
        "FROM (\n",
        "  WITH base AS (\n",
        "    SELECT COUNT(*) n,\n",
        "           COUNTIF(country IS NULL) miss_country,\n",
        "           COUNTIF(subscription_plan IS NULL) miss_plan,\n",
        "           COUNTIF(age IS NULL) miss_age\n",
        "    FROM `mgmt-467-4677.netflix.users`\n",
        "  )\n",
        "  SELECT n,\n",
        "         ROUND(100*miss_country/n,2) AS pct_missing_country,\n",
        "         ROUND(100*miss_plan/n,2)   AS pct_missing_subscription_plan,\n",
        "         ROUND(100*miss_age/n,2)    AS pct_missing_age\n",
        "  FROM base\n",
        ")\n",
        "LIMIT 1;"
      ],
      "id": "44153455",
      "execution_count": 10,
      "outputs": [
        {
          "output_type": "stream",
          "name": "stdout",
          "text": [
            "Executing query with job ID: d185869e-32f5-43d3-bc68-343cffaf629c\n",
            "\rQuery executing: 0.52s"
          ]
        },
        {
          "output_type": "stream",
          "name": "stderr",
          "text": [
            "\n",
            "ERROR:\n",
            " 403 Access Denied: Table mgmt-467-4677:netflix.users: User does not have permission to query table mgmt-467-4677:netflix.users, or perhaps it does not exist.; reason: accessDenied, message: Access Denied: Table mgmt-467-4677:netflix.users: User does not have permission to query table mgmt-467-4677:netflix.users, or perhaps it does not exist.\n",
            "\n",
            "Location: US\n",
            "Job ID: d185869e-32f5-43d3-bc68-343cffaf629c\n",
            "\n"
          ]
        }
      ]
    },
    {
      "cell_type": "code",
      "metadata": {
        "colab": {
          "base_uri": "https://localhost:8080/"
        },
        "id": "eede347b",
        "outputId": "c120ea72-5eb2-4352-bd3e-1ba31969c109"
      },
      "source": [
        "# -- % subscription_plan missing by country ordered descending\n",
        "# This query calculates the percentage of missing 'subscription_plan' values for each country.\n",
        "# It helps identify if the missingness of 'subscription_plan' is dependent on the 'country' (Missing At Random - MAR).\n",
        "%%bigquery\n",
        "SELECT country,\n",
        "       COUNT(*) AS n,\n",
        "       ROUND(100*COUNTIF(subscription_plan IS NULL)/COUNT(*),2) AS pct_missing_subscription_plan\n",
        "FROM `mgmt-467-4677.netflix.users`\n",
        "GROUP BY country\n",
        "ORDER BY pct_missing_subscription_plan DESC;"
      ],
      "id": "eede347b",
      "execution_count": 11,
      "outputs": [
        {
          "output_type": "stream",
          "name": "stdout",
          "text": [
            "Executing query with job ID: fbfd50c3-b308-46d7-8a7b-88ff2bdf5d6a\n",
            "\rQuery executing: 0.43s"
          ]
        },
        {
          "output_type": "stream",
          "name": "stderr",
          "text": [
            "\n",
            "ERROR:\n",
            " 403 Access Denied: Table mgmt-467-4677:netflix.users: User does not have permission to query table mgmt-467-4677:netflix.users, or perhaps it does not exist.; reason: accessDenied, message: Access Denied: Table mgmt-467-4677:netflix.users: User does not have permission to query table mgmt-467-4677:netflix.users, or perhaps it does not exist.\n",
            "\n",
            "Location: US\n",
            "Job ID: fbfd50c3-b308-46d7-8a7b-88ff2bdf5d6a\n",
            "\n"
          ]
        }
      ]
    },
    {
      "cell_type": "code",
      "metadata": {
        "colab": {
          "base_uri": "https://localhost:8080/"
        },
        "id": "c52ec0db",
        "outputId": "4c079f76-1ec5-4515-863d-3681084ce66e"
      },
      "source": [
        "# Select a few rows from the users table to check column names\n",
        "%%bigquery\n",
        "SELECT *\n",
        "FROM `mgmt-467-4677.netflix.users`\n",
        "LIMIT 5"
      ],
      "id": "c52ec0db",
      "execution_count": 12,
      "outputs": [
        {
          "output_type": "stream",
          "name": "stdout",
          "text": [
            "Executing query with job ID: 7108f604-55e9-43c6-8544-4a973d513322\n",
            "\rQuery executing: 0.40s"
          ]
        },
        {
          "output_type": "stream",
          "name": "stderr",
          "text": [
            "\n",
            "ERROR:\n",
            " 403 Access Denied: Table mgmt-467-4677:netflix.users: User does not have permission to query table mgmt-467-4677:netflix.users, or perhaps it does not exist.; reason: accessDenied, message: Access Denied: Table mgmt-467-4677:netflix.users: User does not have permission to query table mgmt-467-4677:netflix.users, or perhaps it does not exist.\n",
            "\n",
            "Location: US\n",
            "Job ID: 7108f604-55e9-43c6-8544-4a973d513322\n",
            "\n"
          ]
        }
      ]
    },
    {
      "cell_type": "code",
      "metadata": {
        "colab": {
          "base_uri": "https://localhost:8080/"
        },
        "id": "9729ecb4",
        "outputId": "06a5b770-3838-427c-a001-14fefe6b5dfa"
      },
      "source": [
        "# -- Users: % missing per column\n",
        "# This query calculates the total number of rows and the percentage of missing values\n",
        "# for the 'country', 'subscription_plan', and 'age' columns in the 'users' table.\n",
        "%%bigquery\n",
        "WITH base AS (\n",
        "  SELECT COUNT(*) n,\n",
        "         COUNTIF(country IS NULL) miss_country,\n",
        "         COUNTIF(subscription_plan IS NULL) miss_plan,\n",
        "         COUNTIF(age IS NULL) miss_age\n",
        "  FROM `mgmt-467-4677.netflix.users`\n",
        ")\n",
        "SELECT n,\n",
        "       ROUND(100*miss_country/n,2) AS pct_missing_country,\n",
        "       ROUND(100*miss_plan/n,2)   AS pct_missing_subscription_plan,\n",
        "       ROUND(100*miss_age/n,2)    AS pct_missing_age\n",
        "FROM base;"
      ],
      "id": "9729ecb4",
      "execution_count": 13,
      "outputs": [
        {
          "output_type": "stream",
          "name": "stdout",
          "text": [
            "Executing query with job ID: 744e3c62-b807-4c21-9a48-caa31b46fe9b\n",
            "\rQuery executing: 0.37s"
          ]
        },
        {
          "output_type": "stream",
          "name": "stderr",
          "text": [
            "\n",
            "ERROR:\n",
            " 403 Access Denied: Table mgmt-467-4677:netflix.users: User does not have permission to query table mgmt-467-4677:netflix.users, or perhaps it does not exist.; reason: accessDenied, message: Access Denied: Table mgmt-467-4677:netflix.users: User does not have permission to query table mgmt-467-4677:netflix.users, or perhaps it does not exist.\n",
            "\n",
            "Location: US\n",
            "Job ID: 744e3c62-b807-4c21-9a48-caa31b46fe9b\n",
            "\n"
          ]
        }
      ]
    },
    {
      "cell_type": "markdown",
      "metadata": {
        "id": "h8SPRy3xjYtT"
      },
      "source": [
        "### Verification Prompt\n",
        "Generate a query that prints the three missingness percentages from (1), rounded to two decimals.\n"
      ],
      "id": "h8SPRy3xjYtT"
    },
    {
      "cell_type": "code",
      "metadata": {
        "colab": {
          "base_uri": "https://localhost:8080/"
        },
        "id": "2c691b51",
        "outputId": "a45de94c-0254-4ddd-88a8-f25c270ae82f"
      },
      "source": [
        "# Verification query: Print the three missingness percentages\n",
        "# This query retrieves and displays the calculated missingness percentages\n",
        "# for country, subscription_plan, and age from the previous query's results.\n",
        "%%bigquery\n",
        "SELECT pct_missing_country, pct_missing_subscription_plan, pct_missing_age\n",
        "FROM (\n",
        "  WITH base AS (\n",
        "    SELECT COUNT(*) n,\n",
        "           COUNTIF(country IS NULL) miss_country,\n",
        "           COUNTIF(subscription_plan IS NULL) miss_plan,\n",
        "           COUNTIF(age IS NULL) miss_age\n",
        "    FROM `mgmt-467-4677.netflix.users`\n",
        "  )\n",
        "  SELECT n,\n",
        "         ROUND(100*miss_country/n,2) AS pct_missing_country,\n",
        "         ROUND(100*miss_plan/n,2)   AS pct_missing_subscription_plan,\n",
        "         ROUND(100*miss_age/n,2)    AS pct_missing_age\n",
        "  FROM base\n",
        ")\n",
        "LIMIT 1;"
      ],
      "id": "2c691b51",
      "execution_count": 14,
      "outputs": [
        {
          "output_type": "stream",
          "name": "stdout",
          "text": [
            "Executing query with job ID: d7dd7e6f-64fa-4665-b7db-2e31cf7d459f\n",
            "\rQuery executing: 0.38s"
          ]
        },
        {
          "output_type": "stream",
          "name": "stderr",
          "text": [
            "\n",
            "ERROR:\n",
            " 403 Access Denied: Table mgmt-467-4677:netflix.users: User does not have permission to query table mgmt-467-4677:netflix.users, or perhaps it does not exist.; reason: accessDenied, message: Access Denied: Table mgmt-467-4677:netflix.users: User does not have permission to query table mgmt-467-4677:netflix.users, or perhaps it does not exist.\n",
            "\n",
            "Location: US\n",
            "Job ID: d7dd7e6f-64fa-4665-b7db-2e31cf7d459f\n",
            "\n"
          ]
        }
      ]
    },
    {
      "cell_type": "markdown",
      "metadata": {
        "id": "OE9XsKkMjYtU"
      },
      "source": [
        "**Reflection:** Which columns are most missing? Hypothesize MCAR/MAR/MNAR and why."
      ],
      "id": "OE9XsKkMjYtU"
    },
    {
      "cell_type": "markdown",
      "metadata": {
        "id": "LlnRxO1QjYtU"
      },
      "source": [
        "### 5.2 Duplicates (watch_history) — What & Why\n",
        "Find exact duplicate interaction records and keep **one best** per group (deterministic policy)."
      ],
      "id": "LlnRxO1QjYtU"
    },
    {
      "cell_type": "markdown",
      "metadata": {
        "id": "K6H7h6PHjYtU"
      },
      "source": [
        "### Build Prompt\n",
        "Generate **two BigQuery SQL cells**:\n",
        "1) Report duplicate groups on `(user_id, movie_id, event_ts, device_type)` with counts (top 20).\n",
        "2) Create table `watch_history_dedup` that keeps one row per group (prefer higher `progress_ratio`, then `minutes_watched`). Add comments.\n"
      ],
      "id": "K6H7h6PHjYtU"
    },
    {
      "cell_type": "code",
      "metadata": {
        "colab": {
          "base_uri": "https://localhost:8080/"
        },
        "id": "d5964f69",
        "outputId": "c75b7de2-6722-4993-943d-ed2a56fa4dd0"
      },
      "source": [
        "# Verification query: Before/after count comparing raw vs watch_history_dedup\n",
        "# This query compares the number of rows in the original watch_history table\n",
        "# and the new watch_history_dedup table to show the effect of deduplication.\n",
        "%%bigquery\n",
        "SELECT 'watch_history_raw' AS table_name, COUNT(*) AS n FROM `mgmt-467-4677.netflix.watch_history`\n",
        "UNION ALL\n",
        "SELECT 'watch_history_dedup' AS table_name, COUNT(*) AS n FROM `mgmt-467-4677.netflix.watch_history_dedup`;"
      ],
      "id": "d5964f69",
      "execution_count": 15,
      "outputs": [
        {
          "output_type": "stream",
          "name": "stdout",
          "text": [
            "Executing query with job ID: c050f839-1468-4144-82c0-9d42a863e406\n",
            "\rQuery executing: 0.46s"
          ]
        },
        {
          "output_type": "stream",
          "name": "stderr",
          "text": [
            "\n",
            "ERROR:\n",
            " 403 Access Denied: Table mgmt-467-4677:netflix.watch_history: User does not have permission to query table mgmt-467-4677:netflix.watch_history, or perhaps it does not exist.; reason: accessDenied, message: Access Denied: Table mgmt-467-4677:netflix.watch_history: User does not have permission to query table mgmt-467-4677:netflix.watch_history, or perhaps it does not exist.\n",
            "\n",
            "Location: US\n",
            "Job ID: c050f839-1468-4144-82c0-9d42a863e406\n",
            "\n"
          ]
        }
      ]
    },
    {
      "cell_type": "code",
      "metadata": {
        "colab": {
          "base_uri": "https://localhost:8080/"
        },
        "id": "86f6f8d3",
        "outputId": "839b54b0-ffbc-4429-8c78-ea8f7e6a93a4"
      },
      "source": [
        "# Select a few rows from the watch_history table to check column names\n",
        "%%bigquery\n",
        "SELECT *\n",
        "FROM `mgmt-467-4677.netflix.watch_history`\n",
        "LIMIT 5"
      ],
      "id": "86f6f8d3",
      "execution_count": 16,
      "outputs": [
        {
          "output_type": "stream",
          "name": "stdout",
          "text": [
            "Executing query with job ID: d3df3df4-bdce-4d98-bffb-3fc8fd412321\n",
            "\rQuery executing: 0.44s"
          ]
        },
        {
          "output_type": "stream",
          "name": "stderr",
          "text": [
            "\n",
            "ERROR:\n",
            " 403 Access Denied: Table mgmt-467-4677:netflix.watch_history: User does not have permission to query table mgmt-467-4677:netflix.watch_history, or perhaps it does not exist.; reason: accessDenied, message: Access Denied: Table mgmt-467-4677:netflix.watch_history: User does not have permission to query table mgmt-467-4677:netflix.watch_history, or perhaps it does not exist.\n",
            "\n",
            "Location: US\n",
            "Job ID: d3df3df4-bdce-4d98-bffb-3fc8fd412321\n",
            "\n"
          ]
        }
      ]
    },
    {
      "cell_type": "code",
      "metadata": {
        "colab": {
          "base_uri": "https://localhost:8080/"
        },
        "id": "Fh8JK8J5jYtU",
        "outputId": "dd8d30ba-e36b-41c6-9f39-adf4469936db"
      },
      "source": [
        "# -- Report duplicate groups on (user_id, movie_id, watch_date, device_type) with counts (top 20)\n",
        "# This query identifies and counts duplicate rows based on key columns in the watch_history table.\n",
        "# Understanding duplicates is crucial for accurate analysis and modeling.\n",
        "%%bigquery\n",
        "SELECT user_id, movie_id, watch_date, device_type, COUNT(*) AS dup_count\n",
        "FROM `mgmt-467-4677.netflix.watch_history`\n",
        "GROUP BY user_id, movie_id, watch_date, device_type\n",
        "HAVING dup_count > 1\n",
        "ORDER BY dup_count DESC\n",
        "LIMIT 20;"
      ],
      "id": "Fh8JK8J5jYtU",
      "execution_count": 17,
      "outputs": [
        {
          "output_type": "stream",
          "name": "stdout",
          "text": [
            "Executing query with job ID: 16a58bc0-767b-4bb2-bcb4-5af9da349bc2\n",
            "\rQuery executing: 0.48s"
          ]
        },
        {
          "output_type": "stream",
          "name": "stderr",
          "text": [
            "\n",
            "ERROR:\n",
            " 403 Access Denied: Table mgmt-467-4677:netflix.watch_history: User does not have permission to query table mgmt-467-4677:netflix.watch_history, or perhaps it does not exist.; reason: accessDenied, message: Access Denied: Table mgmt-467-4677:netflix.watch_history: User does not have permission to query table mgmt-467-4677:netflix.watch_history, or perhaps it does not exist.\n",
            "\n",
            "Location: US\n",
            "Job ID: 16a58bc0-767b-4bb2-bcb4-5af9da349bc2\n",
            "\n"
          ]
        }
      ]
    },
    {
      "cell_type": "code",
      "metadata": {
        "colab": {
          "base_uri": "https://localhost:8080/"
        },
        "id": "wXaiqBGfjYtg",
        "outputId": "61283229-9e66-41e6-8943-4a743715e94f"
      },
      "source": [
        "# -- Create table watch_history_dedup that keeps one row per group\n",
        "# This query creates a new table with duplicates removed, keeping one row per group\n",
        "# based on a defined policy (preferring higher progress_percentage, then watch_duration_minutes).\n",
        "# This ensures a clean dataset for downstream tasks.\n",
        "%%bigquery\n",
        "CREATE OR REPLACE TABLE `mgmt-467-4677.netflix.watch_history_dedup` AS\n",
        "SELECT * EXCEPT(rk) FROM (\n",
        "  SELECT h.*,\n",
        "         ROW_NUMBER() OVER (\n",
        "           PARTITION BY user_id, movie_id, watch_date, device_type\n",
        "           ORDER BY progress_percentage DESC, watch_duration_minutes DESC\n",
        "         ) AS rk\n",
        "  FROM `mgmt-467-4677.netflix.watch_history` h\n",
        ")\n",
        "WHERE rk = 1;"
      ],
      "id": "wXaiqBGfjYtg",
      "execution_count": 18,
      "outputs": [
        {
          "output_type": "stream",
          "name": "stdout",
          "text": [
            "Executing query with job ID: 064ef730-df57-4f19-8eee-0d65c6894b0a\n",
            "\rQuery executing: 0.44s"
          ]
        },
        {
          "output_type": "stream",
          "name": "stderr",
          "text": [
            "\n",
            "ERROR:\n",
            " 403 Access Denied: Table mgmt-467-4677:netflix.watch_history: User does not have permission to query table mgmt-467-4677:netflix.watch_history, or perhaps it does not exist.; reason: accessDenied, message: Access Denied: Table mgmt-467-4677:netflix.watch_history: User does not have permission to query table mgmt-467-4677:netflix.watch_history, or perhaps it does not exist.\n",
            "\n",
            "Location: US\n",
            "Job ID: 064ef730-df57-4f19-8eee-0d65c6894b0a\n",
            "\n"
          ]
        }
      ]
    },
    {
      "cell_type": "markdown",
      "metadata": {
        "id": "vn3wSp0wjYth"
      },
      "source": [
        "### Verification Prompt\n",
        "Generate a before/after count query comparing raw vs `watch_history_dedup`.\n"
      ],
      "id": "vn3wSp0wjYth"
    },
    {
      "cell_type": "code",
      "metadata": {
        "colab": {
          "base_uri": "https://localhost:8080/"
        },
        "id": "1be25443",
        "outputId": "f01af819-11b7-4603-aa3c-4ff6099d245a"
      },
      "source": [
        "# Verification query: Before/after count comparing raw vs watch_history_dedup\n",
        "# This query compares the number of rows in the original watch_history table\n",
        "# and the new watch_history_dedup table to show the effect of deduplication.\n",
        "%%bigquery\n",
        "SELECT 'watch_history_raw' AS table_name, COUNT(*) AS n FROM `mgmt-467-4677.netflix.watch_history`\n",
        "UNION ALL\n",
        "SELECT 'watch_history_dedup' AS table_name, COUNT(*) AS n FROM `mgmt-467-4677.netflix.watch_history_dedup`;"
      ],
      "id": "1be25443",
      "execution_count": 19,
      "outputs": [
        {
          "output_type": "stream",
          "name": "stdout",
          "text": [
            "Executing query with job ID: 98e45ae2-afa1-45d5-aba7-a827dd3372ae\n",
            "\rQuery executing: 0.33s"
          ]
        },
        {
          "output_type": "stream",
          "name": "stderr",
          "text": [
            "\n",
            "ERROR:\n",
            " 403 Access Denied: Table mgmt-467-4677:netflix.watch_history: User does not have permission to query table mgmt-467-4677:netflix.watch_history, or perhaps it does not exist.; reason: accessDenied, message: Access Denied: Table mgmt-467-4677:netflix.watch_history: User does not have permission to query table mgmt-467-4677:netflix.watch_history, or perhaps it does not exist.\n",
            "\n",
            "Location: US\n",
            "Job ID: 98e45ae2-afa1-45d5-aba7-a827dd3372ae\n",
            "\n"
          ]
        }
      ]
    },
    {
      "cell_type": "markdown",
      "metadata": {
        "id": "3qEO-uYejYth"
      },
      "source": [
        "**Reflection:** Why do duplicates arise (natural vs system-generated)? How do they corrupt labels and KPIs?"
      ],
      "id": "3qEO-uYejYth"
    },
    {
      "cell_type": "markdown",
      "metadata": {
        "id": "qCwpylsRjYth"
      },
      "source": [
        "### 5.3 Outliers (minutes_watched) — What & Why\n",
        "Estimate extreme values via IQR; report % outliers; **winsorize** to P01/P99 for robustness while also **flagging** extremes."
      ],
      "id": "qCwpylsRjYth"
    },
    {
      "cell_type": "markdown",
      "metadata": {
        "id": "chnTrx3pjYth"
      },
      "source": [
        "### Build Prompt\n",
        "Generate **two BigQuery SQL cells**:\n",
        "1) Compute IQR bounds for `minutes_watched` on `watch_history_dedup` and report % outliers.\n",
        "2) Create `watch_history_robust` with `minutes_watched_capped` capped at P01/P99; return quantile summaries before/after.\n"
      ],
      "id": "chnTrx3pjYth"
    },
    {
      "cell_type": "code",
      "metadata": {
        "colab": {
          "base_uri": "https://localhost:8080/"
        },
        "id": "b395d025",
        "outputId": "e5d19dab-453e-4404-f3d0-773939c6384c"
      },
      "source": [
        "# Select a few rows from the watch_history_dedup table to check column names\n",
        "%%bigquery\n",
        "SELECT *\n",
        "FROM `mgmt-467-4677.netflix.watch_history_dedup`\n",
        "LIMIT 5"
      ],
      "id": "b395d025",
      "execution_count": 20,
      "outputs": [
        {
          "output_type": "stream",
          "name": "stdout",
          "text": [
            "Executing query with job ID: 3b92be03-f22a-489d-acd7-18b8dd915d19\n",
            "\rQuery executing: 0.44s"
          ]
        },
        {
          "output_type": "stream",
          "name": "stderr",
          "text": [
            "\n",
            "ERROR:\n",
            " 403 Access Denied: Table mgmt-467-4677:netflix.watch_history_dedup: User does not have permission to query table mgmt-467-4677:netflix.watch_history_dedup, or perhaps it does not exist.; reason: accessDenied, message: Access Denied: Table mgmt-467-4677:netflix.watch_history_dedup: User does not have permission to query table mgmt-467-4677:netflix.watch_history_dedup, or perhaps it does not exist.\n",
            "\n",
            "Location: US\n",
            "Job ID: 3b92be03-f22a-489d-acd7-18b8dd915d19\n",
            "\n"
          ]
        }
      ]
    },
    {
      "cell_type": "code",
      "metadata": {
        "colab": {
          "base_uri": "https://localhost:8080/"
        },
        "id": "7b495e77",
        "outputId": "ad0fc0bf-6c9e-44dc-cfdc-c6344fde50c3"
      },
      "source": [
        "# -- Compute IQR bounds for watch_duration_minutes and report % outliers\n",
        "# This query calculates the Interquartile Range (IQR) for 'watch_duration_minutes'\n",
        "# and determines the percentage of values that fall outside the IQR bounds (outliers).\n",
        "%%bigquery\n",
        "SELECT\n",
        "    COUNT(*) AS total_rows,\n",
        "    COUNTIF(watch_duration_minutes < q1 - 1.5 * iqr OR watch_duration_minutes > q3 + 1.5 * iqr) AS outlier_count,\n",
        "    ROUND(100 * COUNTIF(watch_duration_minutes < q1 - 1.5 * iqr OR watch_duration_minutes > q3 + 1.5 * iqr) / COUNT(*), 2) AS pct_outliers\n",
        "FROM\n",
        "    `mgmt-467-4677.netflix.watch_history_dedup`,\n",
        "    (\n",
        "        SELECT\n",
        "            APPROX_QUANTILES(watch_duration_minutes, 4)[OFFSET(1)] AS q1,\n",
        "            APPROX_QUANTILES(watch_duration_minutes, 4)[OFFSET(3)] AS q3,\n",
        "            APPROX_QUANTILES(watch_duration_minutes, 4)[OFFSET(3)] - APPROX_QUANTILES(watch_duration_minutes, 4)[OFFSET(1)] AS iqr\n",
        "        FROM `mgmt-467-4677.netflix.watch_history_dedup`\n",
        "        WHERE watch_duration_minutes IS NOT NULL\n",
        "    )\n",
        "WHERE watch_duration_minutes IS NOT NULL;"
      ],
      "id": "7b495e77",
      "execution_count": 21,
      "outputs": [
        {
          "output_type": "stream",
          "name": "stdout",
          "text": [
            "Executing query with job ID: 88abae07-a97b-45c3-a605-6198e503384d\n",
            "\rQuery executing: 0.48s"
          ]
        },
        {
          "output_type": "stream",
          "name": "stderr",
          "text": [
            "\n",
            "ERROR:\n",
            " 403 Access Denied: Table mgmt-467-4677:netflix.watch_history_dedup: User does not have permission to query table mgmt-467-4677:netflix.watch_history_dedup, or perhaps it does not exist.; reason: accessDenied, message: Access Denied: Table mgmt-467-4677:netflix.watch_history_dedup: User does not have permission to query table mgmt-467-4677:netflix.watch_history_dedup, or perhaps it does not exist.\n",
            "\n",
            "Location: US\n",
            "Job ID: 88abae07-a97b-45c3-a605-6198e503384d\n",
            "\n"
          ]
        }
      ]
    },
    {
      "cell_type": "code",
      "metadata": {
        "colab": {
          "base_uri": "https://localhost:8080/"
        },
        "id": "a231acd9",
        "outputId": "75386c22-f7e5-400c-fce9-9b5b988f907b"
      },
      "source": [
        "# -- Create watch_history_robust with watch_duration_minutes_capped at P01/P99; return quantile summaries before/after.\n",
        "# This query creates a new table with 'watch_duration_minutes' values capped at the 1st and 99th percentiles\n",
        "# to handle outliers. It then returns quantile summaries for both the original and capped columns\n",
        "# to show the effect of capping.\n",
        "%%bigquery\n",
        "CREATE OR REPLACE TABLE `mgmt-467-4677.netflix.watch_history_robust` AS\n",
        "SELECT\n",
        "    *,\n",
        "    IF(watch_duration_minutes < p1, p1, IF(watch_duration_minutes > p99, p99, watch_duration_minutes)) AS watch_duration_minutes_capped\n",
        "FROM\n",
        "    `mgmt-467-4677.netflix.watch_history_dedup`,\n",
        "    (\n",
        "        SELECT\n",
        "            APPROX_QUANTILES(watch_duration_minutes, 100)[OFFSET(1)] AS p1,\n",
        "            APPROX_QUANTILES(watch_duration_minutes, 100)[OFFSET(99)] AS p99\n",
        "        FROM `mgmt-467-4677.netflix.watch_history_dedup`\n",
        "        WHERE watch_duration_minutes IS NOT NULL\n",
        "    );\n",
        "\n",
        "SELECT\n",
        "  'before_capping' AS summary_type,\n",
        "  APPROX_QUANTILES(watch_duration_minutes, 100)[OFFSET(0)] AS min,\n",
        "  APPROX_QUANTILES(watch_duration_minutes, 100)[OFFSET(50)] AS median,\n",
        "  APPROX_QUANTILES(watch_duration_minutes, 100)[OFFSET(100)] AS max\n",
        "FROM `mgmt-467-4677.netflix.watch_history_dedup`\n",
        "UNION ALL\n",
        "SELECT\n",
        "  'after_capping' AS summary_type,\n",
        "  APPROX_QUANTILES(watch_duration_minutes_capped, 100)[OFFSET(0)] AS min,\n",
        "  APPROX_QUANTILES(watch_duration_minutes_capped, 100)[OFFSET(50)] AS median,\n",
        "  APPROX_QUANTILES(watch_duration_minutes_capped, 100)[OFFSET(100)] AS max\n",
        "FROM `mgmt-467-4677.netflix.watch_history_robust`\n",
        "WHERE watch_duration_minutes_capped IS NOT NULL;"
      ],
      "id": "a231acd9",
      "execution_count": 22,
      "outputs": [
        {
          "output_type": "stream",
          "name": "stdout",
          "text": [
            "Executing query with job ID: 0f1e2bb2-8a92-499e-bf96-991a390952bc\n",
            "\rQuery executing: 0.29s"
          ]
        },
        {
          "output_type": "stream",
          "name": "stderr",
          "text": [
            "\n",
            "ERROR:\n",
            " 400 GET https://bigquery.googleapis.com/bigquery/v2/projects/mgmt-467-25259/queries/0f1e2bb2-8a92-499e-bf96-991a390952bc?maxResults=0&location=US&prettyPrint=false: Access Denied: Table mgmt-467-4677:netflix.watch_history_dedup: User does not have permission to query table mgmt-467-4677:netflix.watch_history_dedup, or perhaps it does not exist. at [1:1]\n",
            "\n",
            "Location: US\n",
            "Job ID: 0f1e2bb2-8a92-499e-bf96-991a390952bc\n",
            "\n"
          ]
        }
      ]
    },
    {
      "cell_type": "markdown",
      "metadata": {
        "id": "cEXJq2gLjYth"
      },
      "source": [
        "### Verification Prompt\n",
        "Generate a query that shows min/median/max before vs after capping.\n"
      ],
      "id": "cEXJq2gLjYth"
    },
    {
      "cell_type": "code",
      "metadata": {
        "colab": {
          "base_uri": "https://localhost:8080/"
        },
        "id": "8fc9a6e1",
        "outputId": "1c20f0d1-cc09-4733-adc4-03109d6cdb04"
      },
      "source": [
        "# Verification query: shows min/median/max before vs after capping.\n",
        "# This query returns quantile summaries for both the original and capped columns\n",
        "# to show the effect of capping.\n",
        "%%bigquery\n",
        "SELECT\n",
        "  'before_capping' AS summary_type,\n",
        "  APPROX_QUANTILES(watch_duration_minutes, 100)[OFFSET(0)] AS min,\n",
        "  APPROX_QUANTILES(watch_duration_minutes, 100)[OFFSET(50)] AS median,\n",
        "  APPROX_QUANTILES(watch_duration_minutes, 100)[OFFSET(100)] AS max\n",
        "FROM `mgmt-467-4677.netflix.watch_history_dedup`\n",
        "UNION ALL\n",
        "SELECT\n",
        "  'after_capping' AS summary_type,\n",
        "  APPROX_QUANTILES(watch_duration_minutes_capped, 100)[OFFSET(0)] AS min,\n",
        "  APPROX_QUANTILES(watch_duration_minutes_capped, 100)[OFFSET(50)] AS median,\n",
        "  APPROX_QUANTILES(watch_duration_minutes_capped, 100)[OFFSET(100)] AS max\n",
        "FROM `mgmt-467-4677.netflix.watch_history_robust`\n",
        "WHERE watch_duration_minutes_capped IS NOT NULL;"
      ],
      "id": "8fc9a6e1",
      "execution_count": 23,
      "outputs": [
        {
          "output_type": "stream",
          "name": "stdout",
          "text": [
            "Executing query with job ID: 0d81051d-af76-46f9-b83f-f4e32b6551ba\n",
            "\rQuery executing: 0.37s"
          ]
        },
        {
          "output_type": "stream",
          "name": "stderr",
          "text": [
            "\n",
            "ERROR:\n",
            " 403 Access Denied: Table mgmt-467-4677:netflix.watch_history_dedup: User does not have permission to query table mgmt-467-4677:netflix.watch_history_dedup, or perhaps it does not exist.; reason: accessDenied, message: Access Denied: Table mgmt-467-4677:netflix.watch_history_dedup: User does not have permission to query table mgmt-467-4677:netflix.watch_history_dedup, or perhaps it does not exist.\n",
            "\n",
            "Location: US\n",
            "Job ID: 0d81051d-af76-46f9-b83f-f4e32b6551ba\n",
            "\n"
          ]
        }
      ]
    },
    {
      "cell_type": "markdown",
      "metadata": {
        "id": "X33vyb-DjYth"
      },
      "source": [
        "**Reflection:** When might capping be harmful? Name a model type less sensitive to outliers and why."
      ],
      "id": "X33vyb-DjYth"
    },
    {
      "cell_type": "markdown",
      "metadata": {
        "id": "Op1AhJxHjYth"
      },
      "source": [
        "### 5.4 Business anomaly flags — What & Why\n",
        "Human-readable flags help both product decisioning and ML features (e.g., binge behavior)."
      ],
      "id": "Op1AhJxHjYth"
    },
    {
      "cell_type": "markdown",
      "metadata": {
        "id": "ciLeW5WCjYth"
      },
      "source": [
        "### Build Prompt\n",
        "Generate **three BigQuery SQL cells** (adjust if columns differ):\n",
        "1) In `watch_history_robust`, compute and summarize `flag_binge` for sessions > 8 hours.\n",
        "2) In `users`, compute and summarize `flag_age_extreme` if age can be parsed from `age_band` (<10 or >100).\n",
        "3) In `movies`, compute and summarize `flag_duration_anomaly` where `duration_min` < 15 or > 480 (if exists).\n",
        "Each cell should output count and percentage and include 1–2 comments.\n"
      ],
      "id": "ciLeW5WCjYth"
    },
    {
      "cell_type": "code",
      "metadata": {
        "colab": {
          "base_uri": "https://localhost:8080/"
        },
        "id": "e437c3d6",
        "outputId": "40a4fe22-1543-4f87-eb5d-c5741bf6469d"
      },
      "source": [
        "# -- Compute and summarize flag_binge for sessions > 8 hours in watch_history_robust\n",
        "# This query identifies sessions with a total watch duration greater than 8 hours (480 minutes)\n",
        "# and calculates the count and percentage of such sessions.\n",
        "%%bigquery\n",
        "SELECT\n",
        "    COUNT(*) AS total_rows,\n",
        "    COUNTIF(watch_duration_minutes_capped > 480) AS binge_session_count,\n",
        "    ROUND(100 * COUNTIF(watch_duration_minutes_capped > 480) / COUNT(*), 2) AS pct_binge_sessions\n",
        "FROM `mgmt-467-4677.netflix.watch_history_robust`\n",
        "WHERE watch_duration_minutes_capped IS NOT NULL;"
      ],
      "id": "e437c3d6",
      "execution_count": 24,
      "outputs": [
        {
          "output_type": "stream",
          "name": "stdout",
          "text": [
            "Executing query with job ID: 1b95e758-6481-4bd6-a416-ffbec08c7331\n",
            "\rQuery executing: 0.44s"
          ]
        },
        {
          "output_type": "stream",
          "name": "stderr",
          "text": [
            "\n",
            "ERROR:\n",
            " 403 Access Denied: Table mgmt-467-4677:netflix.watch_history_robust: User does not have permission to query table mgmt-467-4677:netflix.watch_history_robust, or perhaps it does not exist.; reason: accessDenied, message: Access Denied: Table mgmt-467-4677:netflix.watch_history_robust: User does not have permission to query table mgmt-467-4677:netflix.watch_history_robust, or perhaps it does not exist.\n",
            "\n",
            "Location: US\n",
            "Job ID: 1b95e758-6481-4bd6-a416-ffbec08c7331\n",
            "\n"
          ]
        }
      ]
    },
    {
      "cell_type": "code",
      "metadata": {
        "colab": {
          "base_uri": "https://localhost:8080/"
        },
        "id": "d9c6bd6a",
        "outputId": "c5a11b68-133d-4e21-d173-f3353eb499e1"
      },
      "source": [
        "# -- Compute and summarize flag_age_extreme if age < 10 or > 100 in users\n",
        "# This query identifies users with age values considered extreme (<10 or >100)\n",
        "# and calculates the count and percentage of such users.\n",
        "%%bigquery\n",
        "SELECT\n",
        "    COUNT(*) AS total_rows,\n",
        "    COUNTIF(age < 10 OR age > 100) AS extreme_age_count,\n",
        "    ROUND(100 * COUNTIF(age < 10 OR age > 100) / COUNT(*), 2) AS pct_extreme_age\n",
        "FROM `mgmt-467-4677.netflix.users`\n",
        "WHERE age IS NOT NULL;"
      ],
      "id": "d9c6bd6a",
      "execution_count": 25,
      "outputs": [
        {
          "output_type": "stream",
          "name": "stdout",
          "text": [
            "Executing query with job ID: 05c7ca14-647f-4fa7-ae67-b1c32e8d436c\n",
            "\rQuery executing: 0.43s"
          ]
        },
        {
          "output_type": "stream",
          "name": "stderr",
          "text": [
            "\n",
            "ERROR:\n",
            " 403 Access Denied: Table mgmt-467-4677:netflix.users: User does not have permission to query table mgmt-467-4677:netflix.users, or perhaps it does not exist.; reason: accessDenied, message: Access Denied: Table mgmt-467-4677:netflix.users: User does not have permission to query table mgmt-467-4677:netflix.users, or perhaps it does not exist.\n",
            "\n",
            "Location: US\n",
            "Job ID: 05c7ca14-647f-4fa7-ae67-b1c32e8d436c\n",
            "\n"
          ]
        }
      ]
    },
    {
      "cell_type": "code",
      "metadata": {
        "colab": {
          "base_uri": "https://localhost:8080/"
        },
        "id": "150e4aac",
        "outputId": "8bf73112-eff5-40e5-c155-d1ee1dbf00c1"
      },
      "source": [
        "# -- Compute and summarize flag_duration_anomaly where duration_minutes < 15 or > 480 (if exists) in movies\n",
        "# This query identifies movies with duration outside the typical range (<15 or >480 minutes)\n",
        "# and calculates the count and percentage of such movies.\n",
        "%%bigquery\n",
        "SELECT\n",
        "    COUNT(*) AS total_rows,\n",
        "    COUNTIF(duration_minutes < 15 OR duration_minutes > 480) AS duration_anomaly_count,\n",
        "    ROUND(100 * COUNTIF(duration_minutes < 15 OR duration_minutes > 480) / COUNT(*), 2) AS pct_duration_anomaly\n",
        "FROM `mgmt-467-4677.netflix.movies`\n",
        "WHERE duration_minutes IS NOT NULL;"
      ],
      "id": "150e4aac",
      "execution_count": 26,
      "outputs": [
        {
          "output_type": "stream",
          "name": "stdout",
          "text": [
            "Executing query with job ID: c41e2fd0-156a-48f1-89e7-839afe4191df\n",
            "\rQuery executing: 0.37s"
          ]
        },
        {
          "output_type": "stream",
          "name": "stderr",
          "text": [
            "\n",
            "ERROR:\n",
            " 403 Access Denied: Table mgmt-467-4677:netflix.movies: User does not have permission to query table mgmt-467-4677:netflix.movies, or perhaps it does not exist.; reason: accessDenied, message: Access Denied: Table mgmt-467-4677:netflix.movies: User does not have permission to query table mgmt-467-4677:netflix.movies, or perhaps it does not exist.\n",
            "\n",
            "Location: US\n",
            "Job ID: c41e2fd0-156a-48f1-89e7-839afe4191df\n",
            "\n"
          ]
        }
      ]
    },
    {
      "cell_type": "markdown",
      "metadata": {
        "id": "0K_oGsWMjYti"
      },
      "source": [
        "### Verification Prompt\n",
        "Generate a single compact summary query that returns two columns per flag: `flag_name, pct_of_rows`.\n"
      ],
      "id": "0K_oGsWMjYti"
    },
    {
      "cell_type": "code",
      "source": [
        "# Verification query: Generate a single compact summary query that returns two columns per flag: flag_name, pct_of_rows.\n",
        "# This query combines the results of the anomaly flag calculations into a single summary table.\n",
        "%%bigquery\n",
        "SELECT\n",
        "    'flag_binge' AS flag_name,\n",
        "    ROUND(100 * COUNTIF(watch_duration_minutes_capped > 480) / COUNT(*), 2) AS pct_of_rows\n",
        "FROM `mgmt-467-4677.netflix.watch_history_robust`\n",
        "WHERE watch_duration_minutes_capped IS NOT NULL\n",
        "UNION ALL\n",
        "SELECT\n",
        "    'flag_age_extreme' AS flag_name,\n",
        "    ROUND(100 * COUNTIF(age < 10 OR age > 100) / COUNT(*), 2) AS pct_of_rows\n",
        "FROM `mgmt-467-4677.netflix.users`\n",
        "WHERE age IS NOT NULL\n",
        "UNION ALL\n",
        "SELECT\n",
        "    'flag_duration_anomaly' AS flag_name,\n",
        "    ROUND(100 * COUNTIF(duration_minutes < 15 OR duration_minutes > 480) / COUNT(*), 2) AS pct_of_rows\n",
        "FROM `mgmt-467-4677.netflix.movies`\n",
        "WHERE duration_minutes IS NOT NULL;"
      ],
      "metadata": {
        "colab": {
          "base_uri": "https://localhost:8080/"
        },
        "id": "exTXsuk7eCDd",
        "outputId": "85823cb4-0806-4f23-b797-d4f7b7d4a878"
      },
      "id": "exTXsuk7eCDd",
      "execution_count": 27,
      "outputs": [
        {
          "output_type": "stream",
          "name": "stdout",
          "text": [
            "Executing query with job ID: 6ecb2a92-2341-4fcc-b56f-07caf01ea781\n",
            "\rQuery executing: 0.48s"
          ]
        },
        {
          "output_type": "stream",
          "name": "stderr",
          "text": [
            "\n",
            "ERROR:\n",
            " 403 Access Denied: Table mgmt-467-4677:netflix.movies: User does not have permission to query table mgmt-467-4677:netflix.movies, or perhaps it does not exist.; reason: accessDenied, message: Access Denied: Table mgmt-467-4677:netflix.movies: User does not have permission to query table mgmt-467-4677:netflix.movies, or perhaps it does not exist.\n",
            "\n",
            "Location: US\n",
            "Job ID: 6ecb2a92-2341-4fcc-b56f-07caf01ea781\n",
            "\n"
          ]
        }
      ]
    },
    {
      "cell_type": "markdown",
      "metadata": {
        "id": "cNWyNrksjYti"
      },
      "source": [
        "**Reflection:** Which anomaly flag is most common? Which would you keep as a feature and why?"
      ],
      "id": "cNWyNrksjYti"
    },
    {
      "cell_type": "markdown",
      "metadata": {
        "id": "naOq1RQZjYti"
      },
      "source": [
        "## 6) Save & submit — What & Why\n",
        "Reproducibility: save artifacts and document decisions so others can rerun and audit."
      ],
      "id": "naOq1RQZjYti"
    },
    {
      "cell_type": "markdown",
      "metadata": {
        "id": "zOUQhJTtjYti"
      },
      "source": [
        "### Build Prompt\n",
        "Generate a checklist (Markdown) students can paste at the end:\n",
        "- Save this notebook to the team Drive.\n",
        "- Export a `.sql` file with your DQ queries and save to repo.\n",
        "- Push notebook + SQL to the **team GitHub** with a descriptive commit.\n",
        "- Add a README with your `PROJECT_ID`, `REGION`, bucket, dataset, and today’s row counts.\n"
      ],
      "id": "zOUQhJTtjYti"
    },
    {
      "cell_type": "markdown",
      "metadata": {
        "id": "PcQV67BxjYti"
      },
      "source": [
        "## Grading rubric (quick)\n",
        "- Profiling completeness (30)  \n",
        "- Cleaning policy correctness & reproducibility (40)  \n",
        "- Reflection/insight (20)  \n",
        "- Hygiene (naming, verification, idempotence) (10)\n"
      ],
      "id": "PcQV67BxjYti"
    }
  ],
  "metadata": {
    "kernelspec": {
      "display_name": "Python 3",
      "name": "python3"
    },
    "colab": {
      "provenance": []
    }
  },
  "nbformat": 4,
  "nbformat_minor": 5
}